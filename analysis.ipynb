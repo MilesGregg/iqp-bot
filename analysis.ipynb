{
 "cells": [
  {
   "cell_type": "code",
   "execution_count": 35,
   "metadata": {},
   "outputs": [
    {
     "name": "stdout",
     "output_type": "stream",
     "text": [
      "['./Test Logs/Session 4-4/4-4-23 12PM Session/Experiment_anon_fbe2c6a3-client-00330b984ad76601.db', './Test Logs/Session 4-4/4-4-23 11AM Session/Experiment_anon_fbe2c6a3-client-00056ede0d976601.db', './Test Logs/Session 4-4/4-4-23 9AM Session/Experiment_anon_fbe2c6a3-client-0020b1d4d8576601.db', './Test Logs/Session 4-4/4-4-23 10AM Session/Experiment_anon_fbe2c6a3-client-001f00e56ad76601.db', './Test Logs/Session 4-4/4-4-23 2PM Session/Experiment_anon_fbe2c6a3-client-00014f6b68576601.db', './Test Logs/Session 4-4/4-4-23 1PM/Experiment_anon_fbe2c6a3-client-0017b3a2c0576601.db', './Test Logs/Session 4-4/4-4-23 4PM Session/Experiment_anon_fbe2c6a3-client-0028504da2976601.db', './Test Logs/Session 4-4/4-4-23 3PM Session/Experiment_anon_fbe2c6a3-client-000e7b045a176601.db', './Test Logs/Session 4-3/4-3-23 11AM Session/Experiment_anon_fbe2c6a3-client-003a8d63d4976601.db', './Test Logs/Session 4-3/4-3-23 12PM session/Experiment_anon_fbe2c6a3-client-001ff6e284976601.db', './Test Logs/Session 4-3/4-3-23 10AM Session/Experiment_anon_fbe2c6a3-client-002e4afe44176601.db', './Test Logs/Session 4-3/4-3-23 9AM Session/Experiment_anon_fbe2c6a3-client-001fa7ec08576601.db', './Test Logs/Session 4-3/4-3-23 1PM Session/Experiment_anon_fbe2c6a3-client-000fb28acc976601.db', './Test Logs/Session 4-3/4-3-23 2PM Session/Experiment_anon_fbe2c6a3-client-0025d43904976601.db', './Test Logs/Session 4-3/4-3-23 4PM Session/Experiment_anon_fbe2c6a3-client-003e1c24ed576601.db', './Test Logs/Session 4-3/4-3-23 3PM Session/Experiment_anon_fbe2c6a3-client-003cdfec02976601.db', './Test Logs/Session 4-5/4-5-23 10AM Session/Experiment_anon_fbe2c6a3-client-0013799d93d76601.db', './Test Logs/Session 4-5/4-5-23 11AM Session/Experiment_anon_fbe2c6a3-client-000dee11f0976601.db', './Test Logs/Session 4-5/4-5-23 12PM Session/Experiment_anon_fbe2c6a3-client-00081827f9d76601.db', './Test Logs/Session 4-13/12 Session/Experiment_anon_dfeead20-client-0012fe16d8d76601.db', './Test Logs/Session 4-13/1130AM Session/Experiment_anon_dfeead20-client-00127cdd0b176601.db', './Test Logs/Session 4-13/5PM Session/Experiment_anon_dfeead20-client-0028e6282f176601.db', './Test Logs/Session 4-13/430 Session/Experiment_anon_dfeead20-client-0031e5480b576601.db', './Test Logs/Session 4-13/4PM Session/Experiment_anon_dfeead20-client-000c59ce14176601.db', './Test Logs/Session 4-12/230PM Session/Experiment_anon_dfeead20-client-0022167adcd76601.db', './Test Logs/Session 4-12/230PM Session/Experiment_anon_dfeead20-client-0021e40030176601.db', './Test Logs/Session 4-12/1PM Session/Experiment_anon_dfeead20-client-001b84872b576601.db', './Test Logs/Session 4-12/12PM Session/Experiment_anon_dfeead20-client-002203c37e176601.db', './Test Logs/Session 4-12/3pm Session/Experiment_anon_dfeead20-client-001c19fd17976601.db', './Test Logs/Session 4-7/1PM/Experiment_anon_dfeead20-client-002d380e20976601.db', './Test Logs/Session 4-7/2PM/Experiment_anon_dfeead20-client-000dcbeb58176601.db', './Test Logs/Session 4-7/3PM/Experiment_anon_dfeead20-client-0027ef4fd6976601.db', './Test Logs/Session 4-7/12PM/Experiment_anon_dfeead20-client-000f881bd2976601.db', './Test Logs/Session 4-7/11AM/Experiment_anon_dfeead20-client-0000171a9e176601.db', './Test Logs/Session 4-10/12 PM Session/Experiment_anon_dfeead20-client-003d53f106176601.db', './Test Logs/Session 4-10/1030 AM Session/Experiment_anon_dfeead20-client-00374f0adb576601.db', './Test Logs/Session 4-10/1130 AM Session/Experiment_anon_dfeead20-client-0021d49167176601.db', './Test Logs/Session 4-10/1PM Session/Experiment_anon_dfeead20-client-001f030deb976601.db', './Test Logs/Session 4-10/130pm session/Experiment_anon_dfeead20-client-000a74f5f4576601.db', './Test Logs/Session 4-10/1230PM Session/Experiment_anon_dfeead20-client-0026be9aac176601.db', './Test Logs/Session 4-10/10 AM Session/Experiment_anon_dfeead20-client-003c556edad76601.db', './Test Logs/Session 4-10/2PM Session/Experiment_anon_dfeead20-client-003a55e0e2176601.db', './Test Logs/Session 4-11/12 PM Session/Experiment_anon_dfeead20-client-0013ea2da5976601.db', './Test Logs/Session 4-11/1030 AM Session/Experiment_anon_dfeead20-client-0008e6dbce176601.db', './Test Logs/Session 4-11/5PM Session/Experiment_anon_dfeead20-client-001cb3f270576601.db', './Test Logs/Session 4-11/1230PM Session/Experiment_anon_dfeead20-client-001bae497f176601.db']\n",
      "['./Test Logs/Session 4-4/4-4-23 12PM Session/Experiment_anon_422ea6d4-server.db', './Test Logs/Session 4-4/4-4-23 11AM Session/Experiment_anon_422ea6d4-server.db', './Test Logs/Session 4-4/4-4-23 9AM Session/Experiment_anon_422ea6d4-server.db', './Test Logs/Session 4-4/4-4-23 10AM Session/Experiment_anon_422ea6d4-server.db', './Test Logs/Session 4-4/4-4-23 2PM Session/Experiment_anon_422ea6d4-server.db', './Test Logs/Session 4-4/4-4-23 1PM/Experiment_anon_422ea6d4-server.db', './Test Logs/Session 4-4/4-4-23 4PM Session/Experiment_anon_422ea6d4-server.db', './Test Logs/Session 4-4/4-4-23 3PM Session/Experiment_anon_422ea6d4-server.db', './Test Logs/Session 4-3/4-3-23 9AM Session/Experiment_anon_422ea6d4-server.db', './Test Logs/Session 4-3/4-3-23 1PM Session/Experiment_anon_422ea6d4-server.db', './Test Logs/Session 4-3/4-3-23 2PM Session/Experiment_anon_422ea6d4-server.db', './Test Logs/Session 4-3/4-3-23 4PM Session/Experiment_anon_422ea6d4-server (1).db', './Test Logs/Session 4-3/4-3-23 3PM Session/Experiment_anon_422ea6d4-server.db', './Test Logs/Session 4-5/4-5-23 10AM Session/Experiment_anon_422ea6d4-server.db', './Test Logs/Session 4-5/4-5-23 11AM Session/Experiment_anon_422ea6d4-server.db', './Test Logs/Session 4-5/4-5-23 12PM Session/Experiment_anon_422ea6d4-server.db', './Test Logs/Session 4-13/12 Session/Experiment_anon_422ea6d4-server.db', './Test Logs/Session 4-13/1130AM Session/Experiment_anon_422ea6d4-server.db', './Test Logs/Session 4-13/5PM Session/Experiment_anon_422ea6d4-server.db', './Test Logs/Session 4-13/430 Session/Experiment_anon_422ea6d4-server.db', './Test Logs/Session 4-13/4PM Session/Experiment_anon_422ea6d4-server.db', './Test Logs/Session 4-12/230PM Session/Experiment_anon_422ea6d4-server PT 2.db', './Test Logs/Session 4-12/230PM Session/Experiment_anon_422ea6d4-server Pt 1.db', './Test Logs/Session 4-12/3pm Session/Experiment_anon_422ea6d4-server.db', './Test Logs/Session 4-7/2PM/Experiment_anon_422ea6d4-server.db', './Test Logs/Session 4-7/3PM/Experiment_anon_422ea6d4-server.db', './Test Logs/Session 4-7/12PM/Experiment_anon_422ea6d4-server.db', './Test Logs/Session 4-7/11AM/Experiment_anon_422ea6d4-server.db', './Test Logs/Session 4-10/12 PM Session/Experiment_anon_422ea6d4-server.db', './Test Logs/Session 4-10/1030 AM Session/Experiment_anon_422ea6d4-server.db', './Test Logs/Session 4-10/1130 AM Session/Experiment_anon_422ea6d4-server.db', './Test Logs/Session 4-11/12 PM Session/Experiment_anon_422ea6d4-server.db', './Test Logs/Session 4-11/1030 AM Session/Experiment_anon_422ea6d4-server.db', './Test Logs/Session 4-11/1230PM Session/Experiment_anon_422ea6d4-server.db']\n"
     ]
    }
   ],
   "source": [
    "import os\n",
    "import sqlite3\n",
    "rootdir = './Test Logs'\n",
    "\n",
    "client_db_files = []\n",
    "server_db_files = []\n",
    "collect_after_date = '2023-03-31'\n",
    "\n",
    "for subdir, dirs, files in os.walk(rootdir):\n",
    "    for file in files:\n",
    "        path = os.path.join(subdir, file)\n",
    "        path_split = path.split('/')\n",
    "        session_date = path_split[2].split(' ')[1]\n",
    "        if ('2023-0' + session_date) > '2023-03-31':\n",
    "            if 'client' in file:\n",
    "                client_db_files.append(path)\n",
    "            elif 'server' in file:\n",
    "                server_db_files.append(path)\n",
    "\n",
    "print(client_db_files)\n",
    "print(server_db_files)"
   ]
  },
  {
   "cell_type": "code",
   "execution_count": null,
   "metadata": {},
   "outputs": [],
   "source": [
    "# client analysis\n",
    "\n",
    "for path in client_db_files:\n",
    "    conn = sqlite3.connect(path)\n",
    "    curr = conn.cursor()\n",
    "\n",
    "    "
   ]
  }
 ],
 "metadata": {
  "kernelspec": {
   "display_name": "Python 3",
   "language": "python",
   "name": "python3"
  },
  "language_info": {
   "codemirror_mode": {
    "name": "ipython",
    "version": 3
   },
   "file_extension": ".py",
   "mimetype": "text/x-python",
   "name": "python",
   "nbconvert_exporter": "python",
   "pygments_lexer": "ipython3",
   "version": "3.9.6"
  },
  "orig_nbformat": 4
 },
 "nbformat": 4,
 "nbformat_minor": 2
}
